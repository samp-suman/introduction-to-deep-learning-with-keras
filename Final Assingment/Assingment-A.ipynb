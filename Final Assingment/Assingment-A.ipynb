{
 "cells": [
  {
   "cell_type": "markdown",
   "metadata": {},
   "source": [
    "# Assignment: Build a Regression Model in Keras \n",
    "\n",
    "# <a href=\"#parta\">Part (A)</a>\n",
    "\n",
    "Use the Keras library to build a neural network with the following:\n",
    "\n",
    "- One hidden layer of 10 nodes, and a ReLU activation function\n",
    "\n",
    "- Use the adam optimizer and the mean squared error as the loss function.\n",
    "\n",
    "1. Randomly split the data into a training and test sets by holding 30% of the data for testing. You can use the train_test_splithelper function from Scikit-learn.\n",
    "\n",
    "2. Train the model on the training data using 50 epochs.\n",
    "\n",
    "3. Evaluate the model on the test data and compute the mean squared error between the predicted concrete strength and the actual concrete strength. You can use the mean_squared_error function from Scikit-learn.\n",
    "\n",
    "4. Repeat steps 1 - 3, 50 times, i.e., create a list of 50 mean squared errors.\n",
    "\n",
    "5. Report the mean and the standard deviation of the mean squared errors.\n",
    "\n"
   ]
  },
  {
   "cell_type": "code",
   "execution_count": 1,
   "metadata": {},
   "outputs": [
    {
     "name": "stderr",
     "output_type": "stream",
     "text": [
      "Using TensorFlow backend.\n",
      "/home/jupyterlab/conda/envs/python/lib/python3.6/site-packages/tensorflow/python/framework/dtypes.py:519: FutureWarning: Passing (type, 1) or '1type' as a synonym of type is deprecated; in a future version of numpy, it will be understood as (type, (1,)) / '(1,)type'.\n",
      "  _np_qint8 = np.dtype([(\"qint8\", np.int8, 1)])\n",
      "/home/jupyterlab/conda/envs/python/lib/python3.6/site-packages/tensorflow/python/framework/dtypes.py:520: FutureWarning: Passing (type, 1) or '1type' as a synonym of type is deprecated; in a future version of numpy, it will be understood as (type, (1,)) / '(1,)type'.\n",
      "  _np_quint8 = np.dtype([(\"quint8\", np.uint8, 1)])\n",
      "/home/jupyterlab/conda/envs/python/lib/python3.6/site-packages/tensorflow/python/framework/dtypes.py:521: FutureWarning: Passing (type, 1) or '1type' as a synonym of type is deprecated; in a future version of numpy, it will be understood as (type, (1,)) / '(1,)type'.\n",
      "  _np_qint16 = np.dtype([(\"qint16\", np.int16, 1)])\n",
      "/home/jupyterlab/conda/envs/python/lib/python3.6/site-packages/tensorflow/python/framework/dtypes.py:522: FutureWarning: Passing (type, 1) or '1type' as a synonym of type is deprecated; in a future version of numpy, it will be understood as (type, (1,)) / '(1,)type'.\n",
      "  _np_quint16 = np.dtype([(\"quint16\", np.uint16, 1)])\n",
      "/home/jupyterlab/conda/envs/python/lib/python3.6/site-packages/tensorflow/python/framework/dtypes.py:523: FutureWarning: Passing (type, 1) or '1type' as a synonym of type is deprecated; in a future version of numpy, it will be understood as (type, (1,)) / '(1,)type'.\n",
      "  _np_qint32 = np.dtype([(\"qint32\", np.int32, 1)])\n",
      "/home/jupyterlab/conda/envs/python/lib/python3.6/site-packages/tensorflow/python/framework/dtypes.py:528: FutureWarning: Passing (type, 1) or '1type' as a synonym of type is deprecated; in a future version of numpy, it will be understood as (type, (1,)) / '(1,)type'.\n",
      "  np_resource = np.dtype([(\"resource\", np.ubyte, 1)])\n"
     ]
    }
   ],
   "source": [
    "# @title Importing Library\n",
    "import pandas as pd\n",
    "import numpy as np\n",
    "\n",
    "# Library for modal\n",
    "import keras\n",
    "from keras.models import Sequential\n",
    "from keras.layers import Dense\n",
    "\n",
    "#For data spliting\n",
    "from sklearn.model_selection import train_test_split\n",
    "\n",
    "#For mean sqare error\n",
    "from sklearn.metrics import mean_squared_error"
   ]
  },
  {
   "cell_type": "code",
   "execution_count": 3,
   "metadata": {},
   "outputs": [],
   "source": [
    "# @title Loading data set-\n",
    "\n",
    "concrete_data=pd.read_csv('https://cocl.us/concrete_data')"
   ]
  },
  {
   "cell_type": "code",
   "execution_count": 4,
   "metadata": {},
   "outputs": [
    {
     "data": {
      "text/html": [
       "<div>\n",
       "<style scoped>\n",
       "    .dataframe tbody tr th:only-of-type {\n",
       "        vertical-align: middle;\n",
       "    }\n",
       "\n",
       "    .dataframe tbody tr th {\n",
       "        vertical-align: top;\n",
       "    }\n",
       "\n",
       "    .dataframe thead th {\n",
       "        text-align: right;\n",
       "    }\n",
       "</style>\n",
       "<table border=\"1\" class=\"dataframe\">\n",
       "  <thead>\n",
       "    <tr style=\"text-align: right;\">\n",
       "      <th></th>\n",
       "      <th>Cement</th>\n",
       "      <th>Blast Furnace Slag</th>\n",
       "      <th>Fly Ash</th>\n",
       "      <th>Water</th>\n",
       "      <th>Superplasticizer</th>\n",
       "      <th>Coarse Aggregate</th>\n",
       "      <th>Fine Aggregate</th>\n",
       "      <th>Age</th>\n",
       "      <th>Strength</th>\n",
       "    </tr>\n",
       "  </thead>\n",
       "  <tbody>\n",
       "    <tr>\n",
       "      <th>332</th>\n",
       "      <td>246.8</td>\n",
       "      <td>0.0</td>\n",
       "      <td>125.1</td>\n",
       "      <td>143.3</td>\n",
       "      <td>12.0</td>\n",
       "      <td>1086.8</td>\n",
       "      <td>800.9</td>\n",
       "      <td>56</td>\n",
       "      <td>60.32</td>\n",
       "    </tr>\n",
       "    <tr>\n",
       "      <th>522</th>\n",
       "      <td>284.0</td>\n",
       "      <td>15.0</td>\n",
       "      <td>141.0</td>\n",
       "      <td>179.0</td>\n",
       "      <td>5.5</td>\n",
       "      <td>842.0</td>\n",
       "      <td>801.0</td>\n",
       "      <td>56</td>\n",
       "      <td>44.52</td>\n",
       "    </tr>\n",
       "    <tr>\n",
       "      <th>455</th>\n",
       "      <td>213.5</td>\n",
       "      <td>0.0</td>\n",
       "      <td>174.2</td>\n",
       "      <td>159.2</td>\n",
       "      <td>11.7</td>\n",
       "      <td>1043.6</td>\n",
       "      <td>771.9</td>\n",
       "      <td>56</td>\n",
       "      <td>51.26</td>\n",
       "    </tr>\n",
       "    <tr>\n",
       "      <th>90</th>\n",
       "      <td>389.9</td>\n",
       "      <td>189.0</td>\n",
       "      <td>0.0</td>\n",
       "      <td>145.9</td>\n",
       "      <td>22.0</td>\n",
       "      <td>944.7</td>\n",
       "      <td>755.8</td>\n",
       "      <td>3</td>\n",
       "      <td>40.60</td>\n",
       "    </tr>\n",
       "    <tr>\n",
       "      <th>106</th>\n",
       "      <td>362.6</td>\n",
       "      <td>189.0</td>\n",
       "      <td>0.0</td>\n",
       "      <td>164.9</td>\n",
       "      <td>11.6</td>\n",
       "      <td>944.7</td>\n",
       "      <td>755.8</td>\n",
       "      <td>7</td>\n",
       "      <td>55.90</td>\n",
       "    </tr>\n",
       "  </tbody>\n",
       "</table>\n",
       "</div>"
      ],
      "text/plain": [
       "     Cement  Blast Furnace Slag  Fly Ash  Water  Superplasticizer  \\\n",
       "332   246.8                 0.0    125.1  143.3              12.0   \n",
       "522   284.0                15.0    141.0  179.0               5.5   \n",
       "455   213.5                 0.0    174.2  159.2              11.7   \n",
       "90    389.9               189.0      0.0  145.9              22.0   \n",
       "106   362.6               189.0      0.0  164.9              11.6   \n",
       "\n",
       "     Coarse Aggregate  Fine Aggregate  Age  Strength  \n",
       "332            1086.8           800.9   56     60.32  \n",
       "522             842.0           801.0   56     44.52  \n",
       "455            1043.6           771.9   56     51.26  \n",
       "90              944.7           755.8    3     40.60  \n",
       "106             944.7           755.8    7     55.90  "
      ]
     },
     "execution_count": 4,
     "metadata": {},
     "output_type": "execute_result"
    }
   ],
   "source": [
    "concrete_data.sample(5)"
   ]
  },
  {
   "cell_type": "markdown",
   "metadata": {},
   "source": [
    "**The dataset is about the compressive strength of different samples of concrete based on the volumes of the different ingredients that were used to make them. Ingredients include:**\n",
    "\n",
    "1. Cement\n",
    "\n",
    "2. Blast Furnace Slag\n",
    "\n",
    "3. Fly Ash\n",
    "\n",
    "4. Water\n",
    "\n",
    "5. Superplasticizer\n",
    "\n",
    "6. Coarse Aggregate\n",
    "\n",
    "7. Fine Aggregate"
   ]
  },
  {
   "cell_type": "markdown",
   "metadata": {},
   "source": [
    "### Let's check how many data points we have."
   ]
  },
  {
   "cell_type": "code",
   "execution_count": 5,
   "metadata": {},
   "outputs": [
    {
     "data": {
      "text/plain": [
       "(1030, 9)"
      ]
     },
     "execution_count": 5,
     "metadata": {},
     "output_type": "execute_result"
    }
   ],
   "source": [
    "concrete_data.shape"
   ]
  },
  {
   "cell_type": "code",
   "execution_count": 6,
   "metadata": {},
   "outputs": [
    {
     "data": {
      "text/html": [
       "<div>\n",
       "<style scoped>\n",
       "    .dataframe tbody tr th:only-of-type {\n",
       "        vertical-align: middle;\n",
       "    }\n",
       "\n",
       "    .dataframe tbody tr th {\n",
       "        vertical-align: top;\n",
       "    }\n",
       "\n",
       "    .dataframe thead th {\n",
       "        text-align: right;\n",
       "    }\n",
       "</style>\n",
       "<table border=\"1\" class=\"dataframe\">\n",
       "  <thead>\n",
       "    <tr style=\"text-align: right;\">\n",
       "      <th></th>\n",
       "      <th>Cement</th>\n",
       "      <th>Blast Furnace Slag</th>\n",
       "      <th>Fly Ash</th>\n",
       "      <th>Water</th>\n",
       "      <th>Superplasticizer</th>\n",
       "      <th>Coarse Aggregate</th>\n",
       "      <th>Fine Aggregate</th>\n",
       "      <th>Age</th>\n",
       "      <th>Strength</th>\n",
       "    </tr>\n",
       "  </thead>\n",
       "  <tbody>\n",
       "    <tr>\n",
       "      <th>count</th>\n",
       "      <td>1030.000000</td>\n",
       "      <td>1030.000000</td>\n",
       "      <td>1030.000000</td>\n",
       "      <td>1030.000000</td>\n",
       "      <td>1030.000000</td>\n",
       "      <td>1030.000000</td>\n",
       "      <td>1030.000000</td>\n",
       "      <td>1030.000000</td>\n",
       "      <td>1030.000000</td>\n",
       "    </tr>\n",
       "    <tr>\n",
       "      <th>mean</th>\n",
       "      <td>281.167864</td>\n",
       "      <td>73.895825</td>\n",
       "      <td>54.188350</td>\n",
       "      <td>181.567282</td>\n",
       "      <td>6.204660</td>\n",
       "      <td>972.918932</td>\n",
       "      <td>773.580485</td>\n",
       "      <td>45.662136</td>\n",
       "      <td>35.817961</td>\n",
       "    </tr>\n",
       "    <tr>\n",
       "      <th>std</th>\n",
       "      <td>104.506364</td>\n",
       "      <td>86.279342</td>\n",
       "      <td>63.997004</td>\n",
       "      <td>21.354219</td>\n",
       "      <td>5.973841</td>\n",
       "      <td>77.753954</td>\n",
       "      <td>80.175980</td>\n",
       "      <td>63.169912</td>\n",
       "      <td>16.705742</td>\n",
       "    </tr>\n",
       "    <tr>\n",
       "      <th>min</th>\n",
       "      <td>102.000000</td>\n",
       "      <td>0.000000</td>\n",
       "      <td>0.000000</td>\n",
       "      <td>121.800000</td>\n",
       "      <td>0.000000</td>\n",
       "      <td>801.000000</td>\n",
       "      <td>594.000000</td>\n",
       "      <td>1.000000</td>\n",
       "      <td>2.330000</td>\n",
       "    </tr>\n",
       "    <tr>\n",
       "      <th>25%</th>\n",
       "      <td>192.375000</td>\n",
       "      <td>0.000000</td>\n",
       "      <td>0.000000</td>\n",
       "      <td>164.900000</td>\n",
       "      <td>0.000000</td>\n",
       "      <td>932.000000</td>\n",
       "      <td>730.950000</td>\n",
       "      <td>7.000000</td>\n",
       "      <td>23.710000</td>\n",
       "    </tr>\n",
       "    <tr>\n",
       "      <th>50%</th>\n",
       "      <td>272.900000</td>\n",
       "      <td>22.000000</td>\n",
       "      <td>0.000000</td>\n",
       "      <td>185.000000</td>\n",
       "      <td>6.400000</td>\n",
       "      <td>968.000000</td>\n",
       "      <td>779.500000</td>\n",
       "      <td>28.000000</td>\n",
       "      <td>34.445000</td>\n",
       "    </tr>\n",
       "    <tr>\n",
       "      <th>75%</th>\n",
       "      <td>350.000000</td>\n",
       "      <td>142.950000</td>\n",
       "      <td>118.300000</td>\n",
       "      <td>192.000000</td>\n",
       "      <td>10.200000</td>\n",
       "      <td>1029.400000</td>\n",
       "      <td>824.000000</td>\n",
       "      <td>56.000000</td>\n",
       "      <td>46.135000</td>\n",
       "    </tr>\n",
       "    <tr>\n",
       "      <th>max</th>\n",
       "      <td>540.000000</td>\n",
       "      <td>359.400000</td>\n",
       "      <td>200.100000</td>\n",
       "      <td>247.000000</td>\n",
       "      <td>32.200000</td>\n",
       "      <td>1145.000000</td>\n",
       "      <td>992.600000</td>\n",
       "      <td>365.000000</td>\n",
       "      <td>82.600000</td>\n",
       "    </tr>\n",
       "  </tbody>\n",
       "</table>\n",
       "</div>"
      ],
      "text/plain": [
       "            Cement  Blast Furnace Slag      Fly Ash        Water  \\\n",
       "count  1030.000000         1030.000000  1030.000000  1030.000000   \n",
       "mean    281.167864           73.895825    54.188350   181.567282   \n",
       "std     104.506364           86.279342    63.997004    21.354219   \n",
       "min     102.000000            0.000000     0.000000   121.800000   \n",
       "25%     192.375000            0.000000     0.000000   164.900000   \n",
       "50%     272.900000           22.000000     0.000000   185.000000   \n",
       "75%     350.000000          142.950000   118.300000   192.000000   \n",
       "max     540.000000          359.400000   200.100000   247.000000   \n",
       "\n",
       "       Superplasticizer  Coarse Aggregate  Fine Aggregate          Age  \\\n",
       "count       1030.000000       1030.000000     1030.000000  1030.000000   \n",
       "mean           6.204660        972.918932      773.580485    45.662136   \n",
       "std            5.973841         77.753954       80.175980    63.169912   \n",
       "min            0.000000        801.000000      594.000000     1.000000   \n",
       "25%            0.000000        932.000000      730.950000     7.000000   \n",
       "50%            6.400000        968.000000      779.500000    28.000000   \n",
       "75%           10.200000       1029.400000      824.000000    56.000000   \n",
       "max           32.200000       1145.000000      992.600000   365.000000   \n",
       "\n",
       "          Strength  \n",
       "count  1030.000000  \n",
       "mean     35.817961  \n",
       "std      16.705742  \n",
       "min       2.330000  \n",
       "25%      23.710000  \n",
       "50%      34.445000  \n",
       "75%      46.135000  \n",
       "max      82.600000  "
      ]
     },
     "execution_count": 6,
     "metadata": {},
     "output_type": "execute_result"
    }
   ],
   "source": [
    "concrete_data.describe()"
   ]
  },
  {
   "cell_type": "code",
   "execution_count": 7,
   "metadata": {},
   "outputs": [
    {
     "name": "stdout",
     "output_type": "stream",
     "text": [
      "<class 'pandas.core.frame.DataFrame'>\n",
      "RangeIndex: 1030 entries, 0 to 1029\n",
      "Data columns (total 9 columns):\n",
      " #   Column              Non-Null Count  Dtype  \n",
      "---  ------              --------------  -----  \n",
      " 0   Cement              1030 non-null   float64\n",
      " 1   Blast Furnace Slag  1030 non-null   float64\n",
      " 2   Fly Ash             1030 non-null   float64\n",
      " 3   Water               1030 non-null   float64\n",
      " 4   Superplasticizer    1030 non-null   float64\n",
      " 5   Coarse Aggregate    1030 non-null   float64\n",
      " 6   Fine Aggregate      1030 non-null   float64\n",
      " 7   Age                 1030 non-null   int64  \n",
      " 8   Strength            1030 non-null   float64\n",
      "dtypes: float64(8), int64(1)\n",
      "memory usage: 72.5 KB\n"
     ]
    }
   ],
   "source": [
    "concrete_data.info()"
   ]
  },
  {
   "cell_type": "code",
   "execution_count": 8,
   "metadata": {},
   "outputs": [
    {
     "data": {
      "text/plain": [
       "Cement                0\n",
       "Blast Furnace Slag    0\n",
       "Fly Ash               0\n",
       "Water                 0\n",
       "Superplasticizer      0\n",
       "Coarse Aggregate      0\n",
       "Fine Aggregate        0\n",
       "Age                   0\n",
       "Strength              0\n",
       "dtype: int64"
      ]
     },
     "execution_count": 8,
     "metadata": {},
     "output_type": "execute_result"
    }
   ],
   "source": [
    "concrete_data.isnull().sum()"
   ]
  },
  {
   "cell_type": "markdown",
   "metadata": {},
   "source": [
    "There are **1030** samples in the dataset.\n",
    "\n",
    "**Strength is our target**\n",
    "\n",
    "**The data looks very clean and is ready to be used to build our model.**"
   ]
  },
  {
   "cell_type": "code",
   "execution_count": 13,
   "metadata": {},
   "outputs": [],
   "source": [
    "# Split data into predictors and target\n",
    "\n",
    "predictors = concrete_data.iloc[:,:-1] # strength is the last column so this will exclude the last column.\n",
    "target = concrete_data['Strength'] # Strength column"
   ]
  },
  {
   "cell_type": "code",
   "execution_count": 14,
   "metadata": {},
   "outputs": [
    {
     "data": {
      "text/html": [
       "<div>\n",
       "<style scoped>\n",
       "    .dataframe tbody tr th:only-of-type {\n",
       "        vertical-align: middle;\n",
       "    }\n",
       "\n",
       "    .dataframe tbody tr th {\n",
       "        vertical-align: top;\n",
       "    }\n",
       "\n",
       "    .dataframe thead th {\n",
       "        text-align: right;\n",
       "    }\n",
       "</style>\n",
       "<table border=\"1\" class=\"dataframe\">\n",
       "  <thead>\n",
       "    <tr style=\"text-align: right;\">\n",
       "      <th></th>\n",
       "      <th>Cement</th>\n",
       "      <th>Blast Furnace Slag</th>\n",
       "      <th>Fly Ash</th>\n",
       "      <th>Water</th>\n",
       "      <th>Superplasticizer</th>\n",
       "      <th>Coarse Aggregate</th>\n",
       "      <th>Fine Aggregate</th>\n",
       "      <th>Age</th>\n",
       "    </tr>\n",
       "  </thead>\n",
       "  <tbody>\n",
       "    <tr>\n",
       "      <th>943</th>\n",
       "      <td>151.6</td>\n",
       "      <td>0.0</td>\n",
       "      <td>111.9</td>\n",
       "      <td>184.4</td>\n",
       "      <td>7.9</td>\n",
       "      <td>992.0</td>\n",
       "      <td>815.9</td>\n",
       "      <td>28</td>\n",
       "    </tr>\n",
       "    <tr>\n",
       "      <th>913</th>\n",
       "      <td>298.0</td>\n",
       "      <td>0.0</td>\n",
       "      <td>107.0</td>\n",
       "      <td>164.0</td>\n",
       "      <td>13.0</td>\n",
       "      <td>953.0</td>\n",
       "      <td>784.0</td>\n",
       "      <td>28</td>\n",
       "    </tr>\n",
       "    <tr>\n",
       "      <th>754</th>\n",
       "      <td>540.0</td>\n",
       "      <td>0.0</td>\n",
       "      <td>0.0</td>\n",
       "      <td>173.0</td>\n",
       "      <td>0.0</td>\n",
       "      <td>1125.0</td>\n",
       "      <td>613.0</td>\n",
       "      <td>90</td>\n",
       "    </tr>\n",
       "    <tr>\n",
       "      <th>585</th>\n",
       "      <td>290.2</td>\n",
       "      <td>193.5</td>\n",
       "      <td>0.0</td>\n",
       "      <td>185.7</td>\n",
       "      <td>0.0</td>\n",
       "      <td>998.2</td>\n",
       "      <td>704.3</td>\n",
       "      <td>28</td>\n",
       "    </tr>\n",
       "    <tr>\n",
       "      <th>501</th>\n",
       "      <td>491.0</td>\n",
       "      <td>26.0</td>\n",
       "      <td>123.0</td>\n",
       "      <td>210.0</td>\n",
       "      <td>3.9</td>\n",
       "      <td>882.0</td>\n",
       "      <td>699.0</td>\n",
       "      <td>3</td>\n",
       "    </tr>\n",
       "  </tbody>\n",
       "</table>\n",
       "</div>"
      ],
      "text/plain": [
       "     Cement  Blast Furnace Slag  Fly Ash  Water  Superplasticizer  \\\n",
       "943   151.6                 0.0    111.9  184.4               7.9   \n",
       "913   298.0                 0.0    107.0  164.0              13.0   \n",
       "754   540.0                 0.0      0.0  173.0               0.0   \n",
       "585   290.2               193.5      0.0  185.7               0.0   \n",
       "501   491.0                26.0    123.0  210.0               3.9   \n",
       "\n",
       "     Coarse Aggregate  Fine Aggregate  Age  \n",
       "943             992.0           815.9   28  \n",
       "913             953.0           784.0   28  \n",
       "754            1125.0           613.0   90  \n",
       "585             998.2           704.3   28  \n",
       "501             882.0           699.0    3  "
      ]
     },
     "execution_count": 14,
     "metadata": {},
     "output_type": "execute_result"
    }
   ],
   "source": [
    "predictors.sample(5)"
   ]
  },
  {
   "cell_type": "code",
   "execution_count": 15,
   "metadata": {},
   "outputs": [
    {
     "data": {
      "text/plain": [
       "0    79.99\n",
       "1    61.89\n",
       "2    40.27\n",
       "Name: Strength, dtype: float64"
      ]
     },
     "execution_count": 15,
     "metadata": {},
     "output_type": "execute_result"
    }
   ],
   "source": [
    "target.head(3)"
   ]
  },
  {
   "cell_type": "code",
   "execution_count": 20,
   "metadata": {},
   "outputs": [
    {
     "data": {
      "text/plain": [
       "8"
      ]
     },
     "execution_count": 20,
     "metadata": {},
     "output_type": "execute_result"
    }
   ],
   "source": [
    "# No. of features\n",
    "n_cols=predictors.shape[1]\n",
    "n_cols"
   ]
  },
  {
   "cell_type": "markdown",
   "metadata": {},
   "source": [
    "<div id=\"parta\"></div>\n",
    "\n",
    "The below function creates a model that has one hidden layer with 10 neurons and a ReLU activation function. It uses the adam optimizer and the mean squared error as the loss function.\n",
    "\n",
    "Function is using keras Sequantial that we have imported above"
   ]
  },
  {
   "cell_type": "code",
   "execution_count": 17,
   "metadata": {},
   "outputs": [],
   "source": [
    "# define regression model\n",
    "def regression_model():\n",
    "    # create model\n",
    "    model = Sequential()\n",
    "    model.add(Dense(10, activation='relu', input_shape=(n_cols,))) # hidden layers with node 10 and relu-- activation function\n",
    "    model.add(Dense(1))\n",
    "    \n",
    "    # compile model\n",
    "    model.compile(optimizer='adam', loss='mean_squared_error')\n",
    "    return model"
   ]
  },
  {
   "cell_type": "code",
   "execution_count": 18,
   "metadata": {},
   "outputs": [],
   "source": [
    "# Let's split the data in training and testing\n",
    "\n",
    "X_train, X_test, y_train, y_test = train_test_split(predictors, target, test_size=0.3, random_state=42)"
   ]
  },
  {
   "cell_type": "markdown",
   "metadata": {},
   "source": [
    "### Train and Test the Network\n",
    "\n",
    "**Let's call the function now to create our model.**"
   ]
  },
  {
   "cell_type": "code",
   "execution_count": 21,
   "metadata": {},
   "outputs": [
    {
     "name": "stdout",
     "output_type": "stream",
     "text": [
      "Epoch 1/50\n",
      "721/721 [==============================] - 1s 1ms/step - loss: 35460.1223\n",
      "Epoch 2/50\n",
      "721/721 [==============================] - 0s 496us/step - loss: 18774.0853\n",
      "Epoch 3/50\n",
      "721/721 [==============================] - 0s 412us/step - loss: 9246.0214\n",
      "Epoch 4/50\n",
      "721/721 [==============================] - 0s 415us/step - loss: 5388.5432\n",
      "Epoch 5/50\n",
      "721/721 [==============================] - 0s 387us/step - loss: 4502.3842\n",
      "Epoch 6/50\n",
      "721/721 [==============================] - 0s 332us/step - loss: 4121.9216\n",
      "Epoch 7/50\n",
      "721/721 [==============================] - 0s 412us/step - loss: 3749.1207\n",
      "Epoch 8/50\n",
      "721/721 [==============================] - 0s 450us/step - loss: 3419.1794\n",
      "Epoch 9/50\n",
      "721/721 [==============================] - 0s 360us/step - loss: 3078.5643\n",
      "Epoch 10/50\n",
      "721/721 [==============================] - 0s 360us/step - loss: 2740.3559\n",
      "Epoch 11/50\n",
      "721/721 [==============================] - 0s 441us/step - loss: 2411.1760\n",
      "Epoch 12/50\n",
      "721/721 [==============================] - 0s 360us/step - loss: 2107.1609\n",
      "Epoch 13/50\n",
      "721/721 [==============================] - 0s 385us/step - loss: 1824.6061\n",
      "Epoch 14/50\n",
      "721/721 [==============================] - 0s 386us/step - loss: 1553.8282\n",
      "Epoch 15/50\n",
      "721/721 [==============================] - 0s 364us/step - loss: 1305.3536\n",
      "Epoch 16/50\n",
      "721/721 [==============================] - 0s 382us/step - loss: 1095.4407\n",
      "Epoch 17/50\n",
      "721/721 [==============================] - 0s 361us/step - loss: 915.2962\n",
      "Epoch 18/50\n",
      "721/721 [==============================] - 0s 361us/step - loss: 774.1604\n",
      "Epoch 19/50\n",
      "721/721 [==============================] - 0s 353us/step - loss: 667.7619\n",
      "Epoch 20/50\n",
      "721/721 [==============================] - 0s 337us/step - loss: 584.2659\n",
      "Epoch 21/50\n",
      "721/721 [==============================] - 0s 333us/step - loss: 523.4962\n",
      "Epoch 22/50\n",
      "721/721 [==============================] - 0s 359us/step - loss: 473.9559\n",
      "Epoch 23/50\n",
      "721/721 [==============================] - 0s 387us/step - loss: 437.7642\n",
      "Epoch 24/50\n",
      "721/721 [==============================] - 0s 385us/step - loss: 406.8641 0s - loss: 409.555\n",
      "Epoch 25/50\n",
      "721/721 [==============================] - 0s 471us/step - loss: 380.7129\n",
      "Epoch 26/50\n",
      "721/721 [==============================] - 0s 387us/step - loss: 360.1308\n",
      "Epoch 27/50\n",
      "721/721 [==============================] - 0s 334us/step - loss: 343.7250\n",
      "Epoch 28/50\n",
      "721/721 [==============================] - 0s 331us/step - loss: 327.9454\n",
      "Epoch 29/50\n",
      "721/721 [==============================] - 0s 359us/step - loss: 316.6030\n",
      "Epoch 30/50\n",
      "721/721 [==============================] - 0s 414us/step - loss: 306.5110\n",
      "Epoch 31/50\n",
      "721/721 [==============================] - 0s 468us/step - loss: 296.6281\n",
      "Epoch 32/50\n",
      "721/721 [==============================] - 0s 333us/step - loss: 289.8724\n",
      "Epoch 33/50\n",
      "721/721 [==============================] - 0s 328us/step - loss: 282.8088\n",
      "Epoch 34/50\n",
      "721/721 [==============================] - 0s 425us/step - loss: 275.3182\n",
      "Epoch 35/50\n",
      "721/721 [==============================] - 0s 403us/step - loss: 269.4297\n",
      "Epoch 36/50\n",
      "721/721 [==============================] - 0s 414us/step - loss: 265.5908\n",
      "Epoch 37/50\n",
      "721/721 [==============================] - 0s 415us/step - loss: 260.0019\n",
      "Epoch 38/50\n",
      "721/721 [==============================] - 0s 339us/step - loss: 257.3428\n",
      "Epoch 39/50\n",
      "721/721 [==============================] - 0s 308us/step - loss: 252.6055\n",
      "Epoch 40/50\n",
      "721/721 [==============================] - 0s 358us/step - loss: 248.2053\n",
      "Epoch 41/50\n",
      "721/721 [==============================] - 0s 331us/step - loss: 244.7076\n",
      "Epoch 42/50\n",
      "721/721 [==============================] - 0s 374us/step - loss: 241.3163\n",
      "Epoch 43/50\n",
      "721/721 [==============================] - 0s 322us/step - loss: 237.0814\n",
      "Epoch 44/50\n",
      "721/721 [==============================] - 0s 386us/step - loss: 234.5401\n",
      "Epoch 45/50\n",
      "721/721 [==============================] - 0s 409us/step - loss: 231.1776\n",
      "Epoch 46/50\n",
      "721/721 [==============================] - 0s 337us/step - loss: 228.1301\n",
      "Epoch 47/50\n",
      "721/721 [==============================] - 0s 363us/step - loss: 226.2507\n",
      "Epoch 48/50\n",
      "721/721 [==============================] - 0s 336us/step - loss: 222.0080\n",
      "Epoch 49/50\n",
      "721/721 [==============================] - 0s 390us/step - loss: 218.5352\n",
      "Epoch 50/50\n",
      "721/721 [==============================] - 0s 392us/step - loss: 213.8318\n"
     ]
    },
    {
     "data": {
      "text/plain": [
       "<keras.callbacks.History at 0x7fa0d72fea90>"
      ]
     },
     "execution_count": 21,
     "metadata": {},
     "output_type": "execute_result"
    }
   ],
   "source": [
    "# build the model\n",
    "model = regression_model()\n",
    "epochs=50\n",
    "\n",
    "# Fit\n",
    "model.fit(X_train, y_train, epochs=epochs, verbose=1)"
   ]
  },
  {
   "cell_type": "code",
   "execution_count": 22,
   "metadata": {},
   "outputs": [
    {
     "name": "stdout",
     "output_type": "stream",
     "text": [
      "309/309 [==============================] - 0s 429us/step\n"
     ]
    },
    {
     "data": {
      "text/plain": [
       "226.45240996030543"
      ]
     },
     "execution_count": 22,
     "metadata": {},
     "output_type": "execute_result"
    }
   ],
   "source": [
    "# Evaluate the model on the test data.\n",
    "\n",
    "loss_val = model.evaluate(X_test, y_test)\n",
    "y_pred = model.predict(X_test)\n",
    "loss_val"
   ]
  },
  {
   "cell_type": "markdown",
   "metadata": {},
   "source": [
    "### Create a list of 50 mean squared errors and report mean and the standard deviation of the mean squared errors."
   ]
  },
  {
   "cell_type": "code",
   "execution_count": 23,
   "metadata": {},
   "outputs": [
    {
     "name": "stdout",
     "output_type": "stream",
     "text": [
      "MSE 1: 94.24556840816362\n",
      "MSE 2: 77.85111258793803\n",
      "MSE 3: 56.25663184502364\n",
      "MSE 4: 57.70628184099414\n",
      "MSE 5: 49.691781534731966\n",
      "MSE 6: 54.102544445050185\n",
      "MSE 7: 60.609713606849844\n",
      "MSE 8: 49.239935013854385\n",
      "MSE 9: 50.45509323564548\n",
      "MSE 10: 51.46012295719875\n",
      "MSE 11: 47.24440183917296\n",
      "MSE 12: 45.375332637897976\n",
      "MSE 13: 56.65442985238381\n",
      "MSE 14: 54.427641414901586\n",
      "MSE 15: 49.195795892511754\n",
      "MSE 16: 44.414679641476724\n",
      "MSE 17: 48.71733929038434\n",
      "MSE 18: 50.2742357963883\n",
      "MSE 19: 44.29165174120067\n",
      "MSE 20: 47.87252113811407\n",
      "MSE 21: 45.67616884299466\n",
      "MSE 22: 46.99404118361982\n",
      "MSE 23: 44.41588411053407\n",
      "MSE 24: 46.28964927204218\n",
      "MSE 25: 50.57130197568233\n",
      "MSE 26: 48.59878789414094\n",
      "MSE 27: 50.12507715811621\n",
      "MSE 28: 47.99025476943328\n",
      "MSE 29: 57.73277988865923\n",
      "MSE 30: 49.520822605268854\n",
      "MSE 31: 52.10597745037388\n",
      "MSE 32: 43.04650686319592\n",
      "MSE 33: 47.46149851974932\n",
      "MSE 34: 49.26655405779101\n",
      "MSE 35: 47.19001703354919\n",
      "MSE 36: 52.59463478755025\n",
      "MSE 37: 51.66575199114852\n",
      "MSE 38: 53.052809261581274\n",
      "MSE 39: 47.94577679433483\n",
      "MSE 40: 44.851457219293586\n",
      "MSE 41: 54.034960972066834\n",
      "MSE 42: 47.04373338075903\n",
      "MSE 43: 48.87610662022069\n",
      "MSE 44: 59.818193651711674\n",
      "MSE 45: 52.51238021109868\n",
      "MSE 46: 55.76962850626233\n",
      "MSE 47: 51.46266531095536\n",
      "MSE 48: 50.45649339003084\n",
      "MSE 49: 53.090116679861325\n",
      "MSE 50: 53.579220163783596\n",
      "\n",
      "\n",
      "Below is the mean and standard deviation of 50 mean squared errors without normalized data. Total number of epochs for each training is: 50\n",
      "\n",
      "Mean: 51.87652089428187\n",
      "Standard Deviation: 8.24017812052958\n"
     ]
    }
   ],
   "source": [
    "# Create a list of 50 mean squared errors and report mean and the standard deviation of the mean squared errors.\n",
    "total_mean_squared_errors = 50\n",
    "epochs = 50\n",
    "mean_squared_errors = []\n",
    "# Iterating 50 times\n",
    "for i in range(0, total_mean_squared_errors):\n",
    "    X_train, X_test, y_train, y_test = train_test_split(predictors, target, test_size=0.3, random_state=i)\n",
    "    model.fit(X_train, y_train, epochs=epochs, verbose=0)\n",
    "    MSE = model.evaluate(X_test, y_test, verbose=0)\n",
    "    print(\"MSE \"+str(i+1)+\": \"+str(MSE))\n",
    "    y_pred = model.predict(X_test)\n",
    "    mean_square_error = mean_squared_error(y_test, y_pred)\n",
    "    mean_squared_errors.append(mean_square_error)\n",
    "\n",
    "mean_squared_errors = np.array(mean_squared_errors)\n",
    "mean = np.mean(mean_squared_errors)\n",
    "standard_deviation = np.std(mean_squared_errors)\n",
    "\n",
    "print('\\n')\n",
    "print(\"Below is the mean and standard deviation of \" +str(total_mean_squared_errors) + \" mean squared errors without normalized data. Total number of epochs for each training is: \" +str(epochs) + \"\\n\")\n",
    "print(\"Mean: \"+str(mean))\n",
    "print(\"Standard Deviation: \"+str(standard_deviation))"
   ]
  },
  {
   "cell_type": "code",
   "execution_count": null,
   "metadata": {},
   "outputs": [],
   "source": []
  }
 ],
 "metadata": {
  "kernelspec": {
   "display_name": "Python",
   "language": "python",
   "name": "conda-env-python-py"
  },
  "language_info": {
   "codemirror_mode": {
    "name": "ipython",
    "version": 3
   },
   "file_extension": ".py",
   "mimetype": "text/x-python",
   "name": "python",
   "nbconvert_exporter": "python",
   "pygments_lexer": "ipython3",
   "version": "3.6.10"
  }
 },
 "nbformat": 4,
 "nbformat_minor": 4
}
